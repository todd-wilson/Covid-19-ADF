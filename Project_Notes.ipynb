{
  "nbformat": 4,
  "nbformat_minor": 0,
  "metadata": {
    "colab": {
      "provenance": [],
      "toc_visible": true,
      "authorship_tag": "ABX9TyOl3jNBigxpxEupUVnAKVS6",
      "include_colab_link": true
    },
    "kernelspec": {
      "name": "python3",
      "display_name": "Python 3"
    },
    "language_info": {
      "name": "python"
    }
  },
  "cells": [
    {
      "cell_type": "markdown",
      "metadata": {
        "id": "view-in-github",
        "colab_type": "text"
      },
      "source": [
        "<a href=\"https://colab.research.google.com/github/todd-wilson/Covid-19-ADF/blob/main/Project_Notes.ipynb\" target=\"_parent\"><img src=\"https://colab.research.google.com/assets/colab-badge.svg\" alt=\"Open In Colab\"/></a>"
      ]
    },
    {
      "cell_type": "markdown",
      "source": [
        "# Azure Data Factory\n",
        "\n",
        "* Fully-managed\n",
        "  * Microsoft takes care of security, updates and maintenance to ADF\n",
        "* Serverless\n",
        "* A data integration solution\n",
        "  * Ingesting\n",
        "  * Preparing\n",
        "  * Transforming\n",
        "* All processing done at scale"
      ],
      "metadata": {
        "id": "5_UHt6iGc3a6"
      }
    },
    {
      "cell_type": "markdown",
      "source": [
        "## ADF Properties\n",
        "* End-to-end solution for handling large amounts of data of varying volume, velocity and variety. The three Vs make up what we know as Big Data\n",
        "* Connectors to 90+ data sources\n",
        "* Transform and Analyze data\n",
        "  * Use external solution if transformation if too complicated\n",
        "    * HDInsight\n",
        "    * Databricks\n",
        "* Orchestrates the publishing of dashboards\n",
        "* Do not use ADF for\n",
        "  * Data migration\n",
        "  * As a data streaming service\n",
        "  * Complex transformations\n",
        "  * Data storage"
      ],
      "metadata": {
        "id": "J0-3qb5Wc23R"
      }
    },
    {
      "cell_type": "markdown",
      "source": [
        "# Project\n",
        "* Objective is to create a data platform that BI can use to create dashboards"
      ],
      "metadata": {
        "id": "JteqGhfTdEM4"
      }
    },
    {
      "cell_type": "markdown",
      "source": [
        "## Data Lake\n",
        "* Know you data\n",
        "  * What is in the data and how to access it."
      ],
      "metadata": {
        "id": "y96aau2KdEPf"
      }
    },
    {
      "cell_type": "markdown",
      "source": [],
      "metadata": {
        "id": "5cj02i74dESL"
      }
    },
    {
      "cell_type": "markdown",
      "source": [],
      "metadata": {
        "id": "F8vUZ_m4dEUz"
      }
    },
    {
      "cell_type": "markdown",
      "source": [],
      "metadata": {
        "id": "HzJ5_ReJdEXO"
      }
    },
    {
      "cell_type": "markdown",
      "source": [],
      "metadata": {
        "id": "_jJDwFTJdEZu"
      }
    },
    {
      "cell_type": "markdown",
      "source": [],
      "metadata": {
        "id": "zjc9AM5FdEcZ"
      }
    },
    {
      "cell_type": "markdown",
      "source": [],
      "metadata": {
        "id": "bw8tjhS2dEek"
      }
    },
    {
      "cell_type": "markdown",
      "source": [],
      "metadata": {
        "id": "u9D-7gs1dEhK"
      }
    },
    {
      "cell_type": "markdown",
      "source": [],
      "metadata": {
        "id": "Y6VZXNZpdEjm"
      }
    },
    {
      "cell_type": "markdown",
      "source": [],
      "metadata": {
        "id": "RSU71HDQdEmK"
      }
    },
    {
      "cell_type": "markdown",
      "source": [],
      "metadata": {
        "id": "4ixJTT65dEog"
      }
    },
    {
      "cell_type": "markdown",
      "source": [],
      "metadata": {
        "id": "LStwLxVodEq4"
      }
    },
    {
      "cell_type": "markdown",
      "source": [],
      "metadata": {
        "id": "9W7LmUQfdEtX"
      }
    },
    {
      "cell_type": "markdown",
      "source": [],
      "metadata": {
        "id": "-2AnjfjpdEv4"
      }
    },
    {
      "cell_type": "markdown",
      "source": [],
      "metadata": {
        "id": "ulbfJq1IdEyR"
      }
    },
    {
      "cell_type": "markdown",
      "source": [],
      "metadata": {
        "id": "mGVf8ntQdE0p"
      }
    },
    {
      "cell_type": "markdown",
      "source": [],
      "metadata": {
        "id": "YdhIh35OdE3N"
      }
    },
    {
      "cell_type": "markdown",
      "source": [],
      "metadata": {
        "id": "OByI_ruedE5y"
      }
    },
    {
      "cell_type": "markdown",
      "source": [],
      "metadata": {
        "id": "A5iay0cNdE8N"
      }
    },
    {
      "cell_type": "markdown",
      "source": [],
      "metadata": {
        "id": "XKEhN8omdE-3"
      }
    },
    {
      "cell_type": "markdown",
      "source": [],
      "metadata": {
        "id": "rHCH5OOwdFBd"
      }
    },
    {
      "cell_type": "markdown",
      "source": [],
      "metadata": {
        "id": "yqAGx3M8dFD_"
      }
    },
    {
      "cell_type": "markdown",
      "source": [],
      "metadata": {
        "id": "4ebxyUjfdFGT"
      }
    },
    {
      "cell_type": "markdown",
      "source": [],
      "metadata": {
        "id": "a8OKdV6hdFI5"
      }
    },
    {
      "cell_type": "markdown",
      "source": [],
      "metadata": {
        "id": "hO6UjYv8dFLX"
      }
    },
    {
      "cell_type": "markdown",
      "source": [],
      "metadata": {
        "id": "k35JYwKudFN-"
      }
    },
    {
      "cell_type": "markdown",
      "source": [],
      "metadata": {
        "id": "jo2pcGppdFQc"
      }
    },
    {
      "cell_type": "markdown",
      "source": [],
      "metadata": {
        "id": "SZY7dO6wdFTH"
      }
    },
    {
      "cell_type": "markdown",
      "source": [],
      "metadata": {
        "id": "iBT1XXjzdFWA"
      }
    },
    {
      "cell_type": "markdown",
      "source": [],
      "metadata": {
        "id": "EDq2PPMWdFYk"
      }
    },
    {
      "cell_type": "markdown",
      "source": [],
      "metadata": {
        "id": "8HAeHhMPdFbJ"
      }
    },
    {
      "cell_type": "markdown",
      "source": [],
      "metadata": {
        "id": "9DoJBjvQdFeH"
      }
    }
  ]
}